{
  "nbformat": 4,
  "nbformat_minor": 0,
  "metadata": {
    "colab": {
      "provenance": []
    },
    "kernelspec": {
      "name": "python3",
      "display_name": "Python 3"
    },
    "language_info": {
      "name": "python"
    }
  },
  "cells": [
    {
      "cell_type": "code",
      "execution_count": 1,
      "metadata": {
        "id": "qtISEzqF4_3I"
      },
      "outputs": [],
      "source": [
        "%%capture\n",
        "!pip install transformers sentencepiece googletrans==4.0.0-rc1\n",
        "#set a PARTICULAR version of google trans omg\n",
        "#Marian model requires sentence piece"
      ]
    },
    {
      "cell_type": "code",
      "source": [
        "import pandas as pd\n",
        "import sentencepiece\n",
        "\n",
        "from google.colab import files\n",
        "from googletrans import Translator\n",
        "from transformers import AutoModelForSeq2SeqLM, AutoTokenizer, MarianTokenizer, MarianMTModel\n",
        "from typing import List, Dict, Tuple, Callable"
      ],
      "metadata": {
        "id": "vqwik2KH5Ill"
      },
      "execution_count": 53,
      "outputs": []
    },
    {
      "cell_type": "code",
      "source": [
        "access_token =''"
      ],
      "metadata": {
        "id": "ibL-bcHLskDE"
      },
      "execution_count": 5,
      "outputs": []
    },
    {
      "cell_type": "code",
      "source": [
        "MARIAN_NAME = \"Helsinki-NLP/opus-mt-ru-en\"\n",
        "NLLB_NAME = \"facebook/nllb-200-distilled-600M\"\n",
        "FILENAME = \"eval_data.xlsx\""
      ],
      "metadata": {
        "id": "pcy314tDBum6"
      },
      "execution_count": 6,
      "outputs": []
    },
    {
      "cell_type": "markdown",
      "source": [
        "## Upload text"
      ],
      "metadata": {
        "id": "GRmx4lnf8gf9"
      }
    },
    {
      "cell_type": "code",
      "source": [
        "df = pd.read_excel(FILENAME)\n",
        "df.head()"
      ],
      "metadata": {
        "id": "EgK63ZKFrMDP"
      },
      "execution_count": null,
      "outputs": []
    },
    {
      "cell_type": "markdown",
      "source": [
        "## Google translate"
      ],
      "metadata": {
        "id": "mB-Biaoy8Yfm"
      }
    },
    {
      "cell_type": "code",
      "source": [
        "class G_Translator:\n",
        "  def __init__(self):\n",
        "    \"\"\"\n",
        "    Initialize the Google Translator.\n",
        "    \"\"\"\n",
        "    self.translator = Translator()\n",
        "\n",
        "\n",
        "  def translate(self, sent: str) -> str:\n",
        "    \"\"\"\n",
        "    Translate a sentence from Russian to English.\n",
        "\n",
        "    :param sent: The input sentence in Russian.\n",
        "    :return: The translated sentence in English.\n",
        "    \"\"\"\n",
        "    return self.translator.translate(sent, src='ru', dest='en').text"
      ],
      "metadata": {
        "id": "v8cX7AOwDonn"
      },
      "execution_count": 56,
      "outputs": []
    },
    {
      "cell_type": "markdown",
      "source": [
        "### NLLB model"
      ],
      "metadata": {
        "id": "rHenbfmPsalr"
      }
    },
    {
      "cell_type": "code",
      "source": [
        "class NLLB_Translator:\n",
        "  def __init__(self, tokenizer, model, target_lang: str = 'eng_Latn', sent_len: int = 300):\n",
        "    \"\"\"\n",
        "    Initialize the NLLB Translator.\n",
        "\n",
        "    :param tokenizer: The tokenizer for the NLLB model.\n",
        "    :param model: The NLLB model for translation.\n",
        "    :param target_lang: Target language code. Default is 'eng_Latn'.\n",
        "    :param sent_len: Maximum length for generated translations. Default is 300.\n",
        "    \"\"\"\n",
        "    self.tokenizer = tokenizer\n",
        "    self.model = model\n",
        "    self.to_lang = target_lang\n",
        "    self.max_length = sent_len\n",
        "\n",
        "  def tokenize(self, sent: str):\n",
        "    \"\"\"\n",
        "    Tokenize a sentence using the NLLB tokenizer.\n",
        "\n",
        "    :param sent: The input sentence.\n",
        "    :return: Tokenized inputs.\n",
        "    \"\"\"\n",
        "    return self.tokenizer(sent, return_tensors='pt')\n",
        "\n",
        "  def generate_translation(self, inputs):\n",
        "    \"\"\"\n",
        "    Generate a translation from tokenized inputs.\n",
        "\n",
        "    :param inputs: Tokenized inputs.\n",
        "\n",
        "    :return: torch.Tensor: Token IDs of the generated translation.\n",
        "    \"\"\"\n",
        "    return self.model.generate(\n",
        "      **inputs, forced_bos_token_id=self.tokenizer.lang_code_to_id[self.to_lang],\n",
        "      max_length=self.max_length)\n",
        "\n",
        "\n",
        "  def get_decoded(self, toks) -> str:\n",
        "    \"\"\"\n",
        "    Decode token IDs to text.\n",
        "\n",
        "    :param toks: Token IDs.\n",
        "    :return: Decoded sentence.\n",
        "    \"\"\"\n",
        "    return self.tokenizer.batch_decode(toks, skip_special_tokens=True)[0]\n",
        "\n",
        "  def translate(self, sent: str) -> str:\n",
        "    \"\"\"\n",
        "    Perform all necessary actions to translate a sentence.\n",
        "\n",
        "    :param sent: The input sentence.\n",
        "    :return: The translated sentence.\n",
        "    \"\"\"\n",
        "    tokens = self.tokenize(sent)\n",
        "    translated = self.generate_translation(tokens)\n",
        "    result = self.get_decoded(translated)\n",
        "    return result"
      ],
      "metadata": {
        "id": "usEHlNvhq6IN"
      },
      "execution_count": 57,
      "outputs": []
    },
    {
      "cell_type": "markdown",
      "source": [
        "## Marian model"
      ],
      "metadata": {
        "id": "M4OFGUm_xrhs"
      }
    },
    {
      "cell_type": "code",
      "source": [
        "class Marian_Translator:\n",
        "  def __init__(self, tokenizer, model,  maxlen: int=300, tokenlist: Tuple[str]=('</s>', '<pad> ')):\n",
        "    \"\"\"\n",
        "    Initialize the Marian Translator.\n",
        "\n",
        "    :param tokenizer: The tokenizer for the Marian model.\n",
        "    :param model: The Marian model for translation.\n",
        "    :param maxlen: Maximum length for generated translations. Default is 300.\n",
        "    :param tokenlist: Tuple of special tokens to skip except UNK. Default is ('<s>', '<pad>').\n",
        "    \"\"\"\n",
        "    self.tokenizer = tokenizer\n",
        "    self.model = model\n",
        "    self.list_of_tokens = tokenlist  #tokens to skip other than UNK\n",
        "    self.maxlen = maxlen\n",
        "\n",
        "\n",
        "  def remove_specials(self, sent: str) -> str:\n",
        "    \"\"\"\n",
        "    Remove special tokens from a sentence.\n",
        "\n",
        "    :param sent: The input sentence.\n",
        "    :return The sentence with special tokens removed.\n",
        "    \"\"\"\n",
        "    for token in self.list_of_tokens:\n",
        "      sent = sent.replace(token, '')\n",
        "    return sent\n",
        "\n",
        "\n",
        "  def get_tokens(self, sent: str):\n",
        "    \"\"\"\n",
        "    Tokenize a sentence using the SentencePiece tokenizer.\n",
        "    :param sent: The input sentence.\n",
        "    :return: torch.Tensor: The tokenized sentence.\n",
        "    \"\"\"\n",
        "    return self.tokenizer.encode(sent, return_tensors='pt')\n",
        "\n",
        "\n",
        "  def generate_translation(self, ids):\n",
        "    \"\"\"\n",
        "    Generate a translation from token IDs.\n",
        "\n",
        "    :param ids: Token IDs of the input sentence.\n",
        "    :return: torch.Tensor: Token IDs of the generated translation.\n",
        "    \"\"\"\n",
        "    return self.model.generate(ids, max_length=self.maxlen, num_beams=4,\n",
        "                               early_stopping=True)[0]\n",
        "\n",
        "\n",
        "  def decode(self, tokens, skip: bool=False) -> str:\n",
        "    \"\"\"\n",
        "    Decode token IDs to text.\n",
        "\n",
        "    :param tokens: torch.Tensor: Token IDs.\n",
        "    :param skip: Whether to skip special tokens. Defaults to False. We got a function to filter it.\n",
        "    :return:The decoded text.\n",
        "    \"\"\"\n",
        "    return self.tokenizer.decode(tokens, skip_special_token=skip)\n",
        "\n",
        "\n",
        "  def translate(self, sent: str):\n",
        "    \"\"\"\n",
        "    Perform all necessary actions to translate a sentence.\n",
        "    :param sent: The input sentence in Russian.\n",
        "    :return: The translated sentence in English.\n",
        "    \"\"\"\n",
        "    ru_ids = self.get_tokens(sent)\n",
        "    translated_ids = self.generate_translation(ru_ids)\n",
        "    decoded = self.decode(translated_ids)\n",
        "    result = self.remove_specials(decoded)\n",
        "    return result"
      ],
      "metadata": {
        "id": "hNSB7X0zxuLe"
      },
      "execution_count": 54,
      "outputs": []
    },
    {
      "cell_type": "markdown",
      "source": [
        "### Save model"
      ],
      "metadata": {
        "id": "aNAPRNyKJBq-"
      }
    },
    {
      "cell_type": "code",
      "source": [
        "def save_n_download(df: pd.DataFrame, name='translations.tsv', sep='\\t'):\n",
        "  \"\"\"\n",
        "  Save a DataFrame to a file and download it.\n",
        "\n",
        "  :param df: The DataFrame to be saved and downloaded.\n",
        "  :param name: The name of the file. Default is 'translations.tsv'.\n",
        "  :param sep: The separator for the file. Default is '\\t'.\n",
        "  \"\"\"\n",
        "  df.to_csv(name, index=False, sep=sep)\n",
        "  files.download(name)"
      ],
      "metadata": {
        "id": "pETtMf6L4sVl"
      },
      "execution_count": 52,
      "outputs": []
    },
    {
      "cell_type": "markdown",
      "source": [
        "## Create a class to run the translators"
      ],
      "metadata": {
        "id": "-BS71MNCJYGB"
      }
    },
    {
      "cell_type": "code",
      "source": [
        "class Datasetter:\n",
        "  \"\"\"\n",
        "  A class for translating and managing datasets.\n",
        "  \"\"\"\n",
        "  def __init__(self, g, nllb_m, marian, original_df: str=FILENAME,\n",
        "               name_to_save: str ='translations.tsv', sep: str='\\t'):\n",
        "    \"\"\"\n",
        "    Initialize the Datasetter.\n",
        "\n",
        "    :param g: Google Translator instance.\n",
        "    :param nllb_m: NLLB Translator instance.\n",
        "    :param marian: Marian Translator instance.\n",
        "    :param original_df: Path to the original dataset (Excel format).\n",
        "    :param name_to_save: Name of the file to save translated data to.\n",
        "    :param sep: Separator for saving the file (default is tab).\n",
        "    \"\"\"\n",
        "    self.filename = original_df\n",
        "    self.name_to_save = name_to_save\n",
        "    self.sep = sep\n",
        "    self.df = self.load_data()\n",
        "\n",
        "    self.g_translator = g\n",
        "    self.nllb_translator = nllb_m\n",
        "    self.marian_translator = marian\n",
        "\n",
        "    self.translations: Dict[str, Callable]= {'en_google':self.g_trans,\n",
        "                         'en_nllb':self.nllb_trans,\n",
        "                         'en_marian': self.marian_trans\n",
        "                         }   #could create two separate lists and a for cycle\n",
        "\n",
        "\n",
        "  def lower_dec(func):\n",
        "    \"\"\"\n",
        "    A decorator to convert input text to lowercase before translation.\n",
        "\n",
        "    :param func: The translation function.\n",
        "    :return: Wrapped translation function.\n",
        "    \"\"\"\n",
        "    def wrapper(self, line):\n",
        "      return func(self, line.lower())\n",
        "    return wrapper\n",
        "\n",
        "\n",
        "  @lower_dec\n",
        "  def g_trans(self, line: str) -> str:\n",
        "    \"\"\"\n",
        "    Translate a line using Google Translator.\n",
        "\n",
        "    :param line: Input text in Russian.\n",
        "    :return: Translated text in English.\n",
        "    \"\"\"\n",
        "    return self.g_translator.translate(line)\n",
        "\n",
        "\n",
        "  @lower_dec\n",
        "  def nllb_trans(self, line: str) -> str:\n",
        "    \"\"\"\n",
        "    Translate a line using NLLB Translator.\n",
        "\n",
        "    :param line: Input text in Russian.\n",
        "    :return: Translated text in English.\n",
        "    \"\"\"\n",
        "    return self.nllb_translator.translate(line)\n",
        "\n",
        "\n",
        "  @lower_dec\n",
        "  def marian_trans(self, line: str) -> str:\n",
        "    \"\"\"\n",
        "    Translate a line using Marian Translator.\n",
        "\n",
        "    :param line: Input text in Russian.\n",
        "    :return: Translated text in English.\n",
        "    \"\"\"\n",
        "    return self.marian_translator.translate(line)\n",
        "\n",
        "\n",
        "  def translate(self) -> pd.DataFrame:\n",
        "    \"\"\"\n",
        "    Translate the 'ru' column in the DataFrame using all methods.\n",
        "\n",
        "    :return: DataFrame with new columns for each translation method.\n",
        "    \"\"\"\n",
        "    for col_name, func in self.translations.items():\n",
        "      # Could add a check here whether we want to translate to existing cols\n",
        "      self.df[col_name] = self.df['ru'].apply(func)\n",
        "    return self.df\n",
        "\n",
        "\n",
        "  def change_name_to_save(self, name: str) -> None:\n",
        "    \"\"\"\n",
        "    Change the name of the file to save.\n",
        "\n",
        "    :param name: New file name.\n",
        "    \"\"\"\n",
        "    self.name_to_save = name\n",
        "\n",
        "\n",
        "  def change_separator(self, sep: str) -> None:\n",
        "    \"\"\"\n",
        "    Change the separator used when saving the file.\n",
        "\n",
        "    :param sep: New separator.\n",
        "    \"\"\"\n",
        "    self.sep = sep\n",
        "\n",
        "\n",
        "  def load_data(self) -> pd.DataFrame:\n",
        "    \"\"\"\n",
        "    Load data from an Excel file into a DataFrame.\n",
        "\n",
        "    :return: Loaded DataFrame.\n",
        "    \"\"\"\n",
        "    df = pd.read_excel(self.filename)\n",
        "    return df\n",
        "\n",
        "\n",
        "  def load_csv(self, filename: str, separator: str) -> None:\n",
        "    \"\"\"\n",
        "    Load data from a CSV/TSV file into the DataFrame.\n",
        "\n",
        "    :param filename: Path to the CSV/TSV file.\n",
        "    :param separator: Separator used in the CSV/TSV file.\n",
        "    \"\"\"\n",
        "    self.df = pd.read_csv(filename, sep=separator)\n",
        "\n",
        "\n",
        "  def df_head(self, n: int=5) -> None:\n",
        "    \"\"\"\n",
        "    Displays in colab(only) the first 'n' rows of the DataFrame.\n",
        "\n",
        "    :param n: Number of rows to display (default is 5).\n",
        "    \"\"\"\n",
        "    display(self.df.head(n))\n",
        "\n",
        "\n",
        "  def save_df(self) -> None:\n",
        "    \"\"\"\n",
        "    Save the DataFrame to a CSV/TSV file with the specified name and separator.\n",
        "    \"\"\"\n",
        "    self.df.to_csv(self.name_to_save, index=False, sep=self.sep)\n",
        "\n",
        "\n",
        "  def download_df(self) -> None:\n",
        "    \"\"\"\n",
        "    Download the saved DataFrame as a file.\n",
        "    \"\"\"\n",
        "    files.download(self.name_to_save)\n",
        "\n",
        "\n",
        "  def pipe(self) -> None:\n",
        "    \"\"\"\n",
        "    Translate the data, save it to a file, and download it.\n",
        "    \"\"\"\n",
        "    self.translate()\n",
        "    self.save_df()\n",
        "    self.download_df()"
      ],
      "metadata": {
        "id": "JzKhAxYe2Htr"
      },
      "execution_count": 58,
      "outputs": []
    },
    {
      "cell_type": "markdown",
      "source": [
        "## Check result"
      ],
      "metadata": {
        "id": "M8FeHg55UDfb"
      }
    },
    {
      "cell_type": "markdown",
      "source": [
        "#### Load NLLB"
      ],
      "metadata": {
        "id": "F4tL5WM5UQbj"
      }
    },
    {
      "cell_type": "code",
      "source": [
        "%%capture\n",
        "rus_tokenizer = AutoTokenizer.from_pretrained(\n",
        "    NLLB_NAME, src_lang=\"rus_Cyrl\", token=access_token)\n",
        "\n",
        "nllb_pretrained = AutoModelForSeq2SeqLM.from_pretrained(NLLB_NAME,\n",
        "                                                   token=access_token)"
      ],
      "metadata": {
        "id": "36XnHXa7sgEI"
      },
      "execution_count": 15,
      "outputs": []
    },
    {
      "cell_type": "markdown",
      "source": [
        "#### Load Marian"
      ],
      "metadata": {
        "id": "whhRE2k8UU1u"
      }
    },
    {
      "cell_type": "code",
      "source": [
        "%%capture\n",
        "marian_tokenizer = MarianTokenizer.from_pretrained(MARIAN_NAME)\n",
        "marian_pretrained = MarianMTModel.from_pretrained(MARIAN_NAME)"
      ],
      "metadata": {
        "id": "A9IaF-9lGFJy"
      },
      "execution_count": 16,
      "outputs": []
    },
    {
      "cell_type": "markdown",
      "source": [
        "#### Create models"
      ],
      "metadata": {
        "id": "fI4gkQRFUXgZ"
      }
    },
    {
      "cell_type": "code",
      "source": [
        "google_model = G_Translator()\n",
        "nllb_model = NLLB_Translator(rus_tokenizer, nllb_pretrained)\n",
        "marian_model = Marian_Translator(marian_tokenizer, marian_pretrained)"
      ],
      "metadata": {
        "id": "JvtsfpXvGffZ"
      },
      "execution_count": 60,
      "outputs": []
    },
    {
      "cell_type": "markdown",
      "source": [
        "#### Create general use instance"
      ],
      "metadata": {
        "id": "zjft-jsYUZ50"
      }
    },
    {
      "cell_type": "code",
      "source": [
        "ensemble = Datasetter(google_model, nllb_model, marian_model)"
      ],
      "metadata": {
        "id": "AL82MgLSJwhl"
      },
      "execution_count": 62,
      "outputs": []
    },
    {
      "cell_type": "code",
      "source": [
        "ensemble.pipe()"
      ],
      "metadata": {
        "colab": {
          "base_uri": "https://localhost:8080/",
          "height": 17
        },
        "id": "qo1nP557Um8k",
        "outputId": "93b88597-5f5d-4be0-aeef-d4c58d89ed72"
      },
      "execution_count": 63,
      "outputs": [
        {
          "output_type": "display_data",
          "data": {
            "text/plain": [
              "<IPython.core.display.Javascript object>"
            ],
            "application/javascript": [
              "\n",
              "    async function download(id, filename, size) {\n",
              "      if (!google.colab.kernel.accessAllowed) {\n",
              "        return;\n",
              "      }\n",
              "      const div = document.createElement('div');\n",
              "      const label = document.createElement('label');\n",
              "      label.textContent = `Downloading \"${filename}\": `;\n",
              "      div.appendChild(label);\n",
              "      const progress = document.createElement('progress');\n",
              "      progress.max = size;\n",
              "      div.appendChild(progress);\n",
              "      document.body.appendChild(div);\n",
              "\n",
              "      const buffers = [];\n",
              "      let downloaded = 0;\n",
              "\n",
              "      const channel = await google.colab.kernel.comms.open(id);\n",
              "      // Send a message to notify the kernel that we're ready.\n",
              "      channel.send({})\n",
              "\n",
              "      for await (const message of channel.messages) {\n",
              "        // Send a message to notify the kernel that we're ready.\n",
              "        channel.send({})\n",
              "        if (message.buffers) {\n",
              "          for (const buffer of message.buffers) {\n",
              "            buffers.push(buffer);\n",
              "            downloaded += buffer.byteLength;\n",
              "            progress.value = downloaded;\n",
              "          }\n",
              "        }\n",
              "      }\n",
              "      const blob = new Blob(buffers, {type: 'application/binary'});\n",
              "      const a = document.createElement('a');\n",
              "      a.href = window.URL.createObjectURL(blob);\n",
              "      a.download = filename;\n",
              "      div.appendChild(a);\n",
              "      a.click();\n",
              "      div.remove();\n",
              "    }\n",
              "  "
            ]
          },
          "metadata": {}
        },
        {
          "output_type": "display_data",
          "data": {
            "text/plain": [
              "<IPython.core.display.Javascript object>"
            ],
            "application/javascript": [
              "download(\"download_2b19ebc4-28f9-4515-83b9-c3d4c9df536d\", \"translations.tsv\", 1707)"
            ]
          },
          "metadata": {}
        }
      ]
    }
  ]
}